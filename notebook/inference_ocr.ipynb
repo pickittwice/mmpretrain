{
 "cells": [
  {
   "cell_type": "code",
   "execution_count": 11,
   "id": "1b0c0818-7b58-4ed5-b000-bcc5afd654b8",
   "metadata": {},
   "outputs": [],
   "source": [
    "from mmocr.apis.inferencers import MMOCRInferencer"
   ]
  },
  {
   "cell_type": "code",
   "execution_count": 12,
   "id": "a0cc0b25-da28-4185-b7f2-fb93f01c019c",
   "metadata": {},
   "outputs": [
    {
     "name": "stdout",
     "output_type": "stream",
     "text": [
      "Loads checkpoint by http backend from path: https://download.openmmlab.com/mmocr/textdet/dbnet/dbnet_resnet50-oclip_1200e_icdar2015/dbnet_resnet50-oclip_1200e_icdar2015_20221102_115917-bde8c87a.pth\n",
      "Loads checkpoint by http backend from path: https://download.openmmlab.com/mmocr/textrecog/crnn/crnn_mini-vgg_5e_mj/crnn_mini-vgg_5e_mj_20220826_224120-8afbedbb.pth\n",
      "The model and loaded state dict do not match exactly\n",
      "\n",
      "unexpected key in source state_dict: data_preprocessor.mean, data_preprocessor.std\n",
      "\n"
     ]
    }
   ],
   "source": [
    "ocr = MMOCRInferencer(\n",
    "    det='DBNet', \n",
    "    rec='CRNN',\n",
    "    device='cpu'\n",
    ")"
   ]
  },
  {
   "cell_type": "code",
   "execution_count": 13,
   "id": "144df9f2-55a0-4c0f-9f6a-09bff3ee0d5f",
   "metadata": {},
   "outputs": [
    {
     "data": {
      "application/vnd.jupyter.widget-view+json": {
       "model_id": "77558539f6184fc7971c9ec1f95dd735",
       "version_major": 2,
       "version_minor": 0
      },
      "text/plain": [
       "Output()"
      ]
     },
     "metadata": {},
     "output_type": "display_data"
    },
    {
     "data": {
      "text/html": [
       "<pre style=\"white-space:pre;overflow-x:auto;line-height:normal;font-family:Menlo,'DejaVu Sans Mono',consolas,'Courier New',monospace\">\n",
       "</pre>\n"
      ],
      "text/plain": [
       "\n"
      ]
     },
     "metadata": {},
     "output_type": "display_data"
    },
    {
     "data": {
      "text/html": [
       "<pre style=\"white-space:pre;overflow-x:auto;line-height:normal;font-family:Menlo,'DejaVu Sans Mono',consolas,'Courier New',monospace\">\n",
       "</pre>\n"
      ],
      "text/plain": [
       "\n"
      ]
     },
     "metadata": {},
     "output_type": "display_data"
    },
    {
     "data": {
      "text/html": [
       "<pre style=\"white-space:pre;overflow-x:auto;line-height:normal;font-family:Menlo,'DejaVu Sans Mono',consolas,'Courier New',monospace\"></pre>\n"
      ],
      "text/plain": []
     },
     "metadata": {},
     "output_type": "display_data"
    },
    {
     "data": {
      "text/html": [
       "<pre style=\"white-space:pre;overflow-x:auto;line-height:normal;font-family:Menlo,'DejaVu Sans Mono',consolas,'Courier New',monospace\">\n",
       "</pre>\n"
      ],
      "text/plain": [
       "\n"
      ]
     },
     "metadata": {},
     "output_type": "display_data"
    }
   ],
   "source": [
    "test_path = '/root/autodl-tmp/larp/sjtu_larp_cloudy/doorplate/positive_doorplate/IMG_20230317_161704.jpg'\n",
    "pred = ocr(test_path)"
   ]
  },
  {
   "cell_type": "code",
   "execution_count": 14,
   "id": "351f9b11-61b7-45ca-bec3-9cfe5be3feb3",
   "metadata": {},
   "outputs": [],
   "source": [
    "def check_pred(preds, match_string):\n",
    "    res = []\n",
    "    for pred in preds['predictions']:\n",
    "        res.append(False)\n",
    "        for rec_text, rec_scores in zip(pred['rec_texts'], pred['rec_scores']):\n",
    "            if rec_scores>0.9 and match_string in rec_text:\n",
    "                res[-1] = True\n",
    "    return res"
   ]
  },
  {
   "cell_type": "code",
   "execution_count": 16,
   "id": "852a86e0-54c7-408d-9082-3f8c0d2018d0",
   "metadata": {},
   "outputs": [
    {
     "data": {
      "text/plain": [
       "[False]"
      ]
     },
     "execution_count": 16,
     "metadata": {},
     "output_type": "execute_result"
    }
   ],
   "source": [
    "check_pred(pred, '504')"
   ]
  },
  {
   "cell_type": "code",
   "execution_count": 9,
   "id": "61de91c1-6da2-4517-9bbc-362941f902ce",
   "metadata": {},
   "outputs": [
    {
     "data": {
      "text/plain": [
       "{'predictions': [{'rec_texts': ['st', 'e', '408', '3', 'e'],\n",
       "   'rec_scores': [0.6934973299503326,\n",
       "    0.24616442620754242,\n",
       "    0.9842023849487305,\n",
       "    0.4513183832168579,\n",
       "    0.26939907670021057],\n",
       "   'det_polygons': [[1544.2970695970696,\n",
       "     1258.43994140625,\n",
       "     1571.7117216117217,\n",
       "     1107.6959838867188,\n",
       "     1723.0205128205127,\n",
       "     1135.2000732421875,\n",
       "     1695.6058608058609,\n",
       "     1285.9440307617188],\n",
       "    [1776.4336996336997,\n",
       "     1281.0,\n",
       "     1776.4336996336997,\n",
       "     1116.0,\n",
       "     1821.4446886446885,\n",
       "     1116.0,\n",
       "     1821.4446886446885,\n",
       "     1281.0],\n",
       "    [1990.4355311355312,\n",
       "     1163.5421447753906,\n",
       "     1994.6150183150182,\n",
       "     871.0589904785156,\n",
       "     2682.1139194139196,\n",
       "     880.8780212402344,\n",
       "     2677.9344322344323,\n",
       "     1173.3611755371094],\n",
       "    [1770.4322344322345,\n",
       "     1128.0,\n",
       "     1770.4322344322345,\n",
       "     915.0,\n",
       "     1827.446153846154,\n",
       "     915.0,\n",
       "     1827.446153846154,\n",
       "     1128.0],\n",
       "    [1776.4336996336997,\n",
       "     762.0,\n",
       "     1821.4446886446885,\n",
       "     762.0,\n",
       "     1821.4446886446885,\n",
       "     897.0,\n",
       "     1776.4336996336997,\n",
       "     897.0]],\n",
       "   'det_scores': [0.7498311996459961,\n",
       "    0.6412075161933899,\n",
       "    0.9409776926040649,\n",
       "    0.7546204924583435,\n",
       "    0.606428861618042]}],\n",
       " 'visualization': []}"
      ]
     },
     "execution_count": 9,
     "metadata": {},
     "output_type": "execute_result"
    }
   ],
   "source": [
    "pred"
   ]
  },
  {
   "cell_type": "code",
   "execution_count": null,
   "id": "a9e3ec2f-5a8b-4d10-9384-3f30cadf26e0",
   "metadata": {},
   "outputs": [],
   "source": []
  }
 ],
 "metadata": {
  "kernelspec": {
   "display_name": "Python 3 (ipykernel)",
   "language": "python",
   "name": "python3"
  },
  "language_info": {
   "codemirror_mode": {
    "name": "ipython",
    "version": 3
   },
   "file_extension": ".py",
   "mimetype": "text/x-python",
   "name": "python",
   "nbconvert_exporter": "python",
   "pygments_lexer": "ipython3",
   "version": "3.8.10"
  }
 },
 "nbformat": 4,
 "nbformat_minor": 5
}
