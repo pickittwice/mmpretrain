{
 "cells": [
  {
   "cell_type": "code",
   "execution_count": 1,
   "id": "640967bb-dc2f-409f-b500-a6ec3fe25e3d",
   "metadata": {},
   "outputs": [],
   "source": [
    "from mmpretrain import ImageClassificationInferencer"
   ]
  },
  {
   "cell_type": "code",
   "execution_count": 8,
   "id": "dcc3601e-47f3-4eec-95ff-76b8a5a728cb",
   "metadata": {},
   "outputs": [],
   "source": [
    "import mmcv\n",
    "from pathlib import Path\n",
    "from matplotlib import pyplot as plt\n",
    "%matplotlib inline"
   ]
  },
  {
   "cell_type": "code",
   "execution_count": 3,
   "id": "cd3e385c-6b89-44ff-ba08-60f357487b71",
   "metadata": {},
   "outputs": [
    {
     "name": "stdout",
     "output_type": "stream",
     "text": [
      "Loads checkpoint by local backend from path: /root/autodl-fs/work_dir/larp_playground_fix_data/epoch_100.pth\n"
     ]
    }
   ],
   "source": [
    "inferencer = ImageClassificationInferencer(\n",
    "        model='/root/autodl-fs/work_dir/larp_playground_fix_data/efficientnet-b4_8xb32-01norm_in1k.py',\n",
    "        pretrained='/root/autodl-fs/work_dir/larp_playground_fix_data/epoch_100.pth',\n",
    "        device='cpu'\n",
    ")"
   ]
  },
  {
   "cell_type": "code",
   "execution_count": 5,
   "id": "e21a5896-72df-4f10-a322-102659c2a747",
   "metadata": {},
   "outputs": [
    {
     "data": {
      "application/vnd.jupyter.widget-view+json": {
       "model_id": "589df96fa7ae45edbea54b8bbc05b055",
       "version_major": 2,
       "version_minor": 0
      },
      "text/plain": [
       "Output()"
      ]
     },
     "metadata": {},
     "output_type": "display_data"
    },
    {
     "data": {
      "text/html": [
       "<pre style=\"white-space:pre;overflow-x:auto;line-height:normal;font-family:Menlo,'DejaVu Sans Mono',consolas,'Courier New',monospace\"></pre>\n"
      ],
      "text/plain": []
     },
     "metadata": {},
     "output_type": "display_data"
    },
    {
     "data": {
      "text/html": [
       "<pre style=\"white-space:pre;overflow-x:auto;line-height:normal;font-family:Menlo,'DejaVu Sans Mono',consolas,'Courier New',monospace\">\n",
       "</pre>\n"
      ],
      "text/plain": [
       "\n"
      ]
     },
     "metadata": {},
     "output_type": "display_data"
    },
    {
     "data": {
      "text/plain": [
       "[{'pred_scores': array([3.5551602e-07, 9.9999964e-01], dtype=float32),\n",
       "  'pred_label': 1,\n",
       "  'pred_score': 0.9999996423721313,\n",
       "  'pred_class': 'positive'}]"
      ]
     },
     "execution_count": 5,
     "metadata": {},
     "output_type": "execute_result"
    }
   ],
   "source": [
    "inferencer(['../data/larp/sjtu_larp_cloudy/playground/positive_video/VID_20230317_154228_2900.png'], show_dir=\"../tmp/infer_res\")"
   ]
  },
  {
   "cell_type": "code",
   "execution_count": 6,
   "id": "a6c59bd8-7b96-4fa5-a60c-4adf77d698ee",
   "metadata": {},
   "outputs": [],
   "source": [
    "test_dir = '../data/larp/sjtu_larp_cloudy/playground/neutral/'"
   ]
  },
  {
   "cell_type": "code",
   "execution_count": 9,
   "id": "ef20a0af-6bde-488f-a96c-bc3286c0bfde",
   "metadata": {},
   "outputs": [],
   "source": [
    "img_list = list(Path(test_dir).glob('*.png'))+list(Path(test_dir).glob('*.jpg'))"
   ]
  },
  {
   "cell_type": "code",
   "execution_count": 11,
   "id": "b9947f9a-5a17-4f62-9460-5d99b731e94d",
   "metadata": {},
   "outputs": [
    {
     "data": {
      "application/vnd.jupyter.widget-view+json": {
       "model_id": "18b6b04d040b4ce48ee9a1a9b5daa9bb",
       "version_major": 2,
       "version_minor": 0
      },
      "text/plain": [
       "Output()"
      ]
     },
     "metadata": {},
     "output_type": "display_data"
    },
    {
     "data": {
      "text/html": [
       "<pre style=\"white-space:pre;overflow-x:auto;line-height:normal;font-family:Menlo,'DejaVu Sans Mono',consolas,'Courier New',monospace\"></pre>\n"
      ],
      "text/plain": []
     },
     "metadata": {},
     "output_type": "display_data"
    },
    {
     "data": {
      "text/html": [
       "<pre style=\"white-space:pre;overflow-x:auto;line-height:normal;font-family:Menlo,'DejaVu Sans Mono',consolas,'Courier New',monospace\">\n",
       "</pre>\n"
      ],
      "text/plain": [
       "\n"
      ]
     },
     "metadata": {},
     "output_type": "display_data"
    }
   ],
   "source": [
    "res = inferencer([str(p) for p in img_list], show_dir='../tmp/infer_res/', batch_size=1, resize=760)"
   ]
  },
  {
   "cell_type": "code",
   "execution_count": 15,
   "id": "d97c0ab1-ec08-4809-bdb3-49111edd7afe",
   "metadata": {},
   "outputs": [],
   "source": [
    "import os"
   ]
  },
  {
   "cell_type": "code",
   "execution_count": 17,
   "id": "3d0551f0-383c-4f50-bc86-dbf7889be656",
   "metadata": {},
   "outputs": [
    {
     "data": {
      "text/plain": [
       "True"
      ]
     },
     "execution_count": 17,
     "metadata": {},
     "output_type": "execute_result"
    }
   ],
   "source": [
    "Path('.').is_dir()"
   ]
  },
  {
   "cell_type": "code",
   "execution_count": 14,
   "id": "620088df-ac4e-4167-9a6d-92137082250b",
   "metadata": {},
   "outputs": [
    {
     "data": {
      "text/plain": [
       "[(PosixPath('../data/larp/sjtu_larp_cloudy/playground/neutral/IMG_20230317_153212.jpg'),\n",
       "  {'pred_scores': array([0.9491451 , 0.05085485], dtype=float32),\n",
       "   'pred_label': 0,\n",
       "   'pred_score': 0.9491450786590576,\n",
       "   'pred_class': 'negative'}),\n",
       " (PosixPath('../data/larp/sjtu_larp_cloudy/playground/neutral/IMG_20230317_153048.jpg'),\n",
       "  {'pred_scores': array([0.9856065 , 0.01439358], dtype=float32),\n",
       "   'pred_label': 0,\n",
       "   'pred_score': 0.9856064915657043,\n",
       "   'pred_class': 'negative'}),\n",
       " (PosixPath('../data/larp/sjtu_larp_cloudy/playground/neutral/IMG_20230317_153011.jpg'),\n",
       "  {'pred_scores': array([0.38195008, 0.6180499 ], dtype=float32),\n",
       "   'pred_label': 1,\n",
       "   'pred_score': 0.6180499196052551,\n",
       "   'pred_class': 'positive'}),\n",
       " (PosixPath('../data/larp/sjtu_larp_cloudy/playground/neutral/IMG_20230317_154319.jpg'),\n",
       "  {'pred_scores': array([0.29944754, 0.7005524 ], dtype=float32),\n",
       "   'pred_label': 1,\n",
       "   'pred_score': 0.7005524039268494,\n",
       "   'pred_class': 'positive'}),\n",
       " (PosixPath('../data/larp/sjtu_larp_cloudy/playground/neutral/IMG_20230317_153127.jpg'),\n",
       "  {'pred_scores': array([0.9973827 , 0.00261726], dtype=float32),\n",
       "   'pred_label': 0,\n",
       "   'pred_score': 0.9973827004432678,\n",
       "   'pred_class': 'negative'}),\n",
       " (PosixPath('../data/larp/sjtu_larp_cloudy/playground/neutral/IMG_20230317_153058.jpg'),\n",
       "  {'pred_scores': array([0.9925954 , 0.00740464], dtype=float32),\n",
       "   'pred_label': 0,\n",
       "   'pred_score': 0.992595374584198,\n",
       "   'pred_class': 'negative'}),\n",
       " (PosixPath('../data/larp/sjtu_larp_cloudy/playground/neutral/IMG_20230317_153205.jpg'),\n",
       "  {'pred_scores': array([7.8593893e-04, 9.9921405e-01], dtype=float32),\n",
       "   'pred_label': 1,\n",
       "   'pred_score': 0.9992140531539917,\n",
       "   'pred_class': 'positive'}),\n",
       " (PosixPath('../data/larp/sjtu_larp_cloudy/playground/neutral/IMG_20230317_152956.jpg'),\n",
       "  {'pred_scores': array([0.80025643, 0.19974358], dtype=float32),\n",
       "   'pred_label': 0,\n",
       "   'pred_score': 0.8002564311027527,\n",
       "   'pred_class': 'negative'}),\n",
       " (PosixPath('../data/larp/sjtu_larp_cloudy/playground/neutral/IMG_20230317_153045.jpg'),\n",
       "  {'pred_scores': array([0.19572186, 0.80427814], dtype=float32),\n",
       "   'pred_label': 1,\n",
       "   'pred_score': 0.8042781352996826,\n",
       "   'pred_class': 'positive'}),\n",
       " (PosixPath('../data/larp/sjtu_larp_cloudy/playground/neutral/IMG_20230317_152912.jpg'),\n",
       "  {'pred_scores': array([0.47076327, 0.52923673], dtype=float32),\n",
       "   'pred_label': 1,\n",
       "   'pred_score': 0.5292367339134216,\n",
       "   'pred_class': 'positive'}),\n",
       " (PosixPath('../data/larp/sjtu_larp_cloudy/playground/neutral/IMG_20230317_153018.jpg'),\n",
       "  {'pred_scores': array([0.05558965, 0.9444104 ], dtype=float32),\n",
       "   'pred_label': 1,\n",
       "   'pred_score': 0.9444103837013245,\n",
       "   'pred_class': 'positive'}),\n",
       " (PosixPath('../data/larp/sjtu_larp_cloudy/playground/neutral/IMG_20230317_154257.jpg'),\n",
       "  {'pred_scores': array([0.00253542, 0.99746454], dtype=float32),\n",
       "   'pred_label': 1,\n",
       "   'pred_score': 0.9974645376205444,\n",
       "   'pred_class': 'positive'}),\n",
       " (PosixPath('../data/larp/sjtu_larp_cloudy/playground/neutral/IMG_20230317_153136.jpg'),\n",
       "  {'pred_scores': array([4.0405834e-04, 9.9959594e-01], dtype=float32),\n",
       "   'pred_label': 1,\n",
       "   'pred_score': 0.9995959401130676,\n",
       "   'pred_class': 'positive'}),\n",
       " (PosixPath('../data/larp/sjtu_larp_cloudy/playground/neutral/IMG_20230317_153050.jpg'),\n",
       "  {'pred_scores': array([9.9998581e-01, 1.4224588e-05], dtype=float32),\n",
       "   'pred_label': 0,\n",
       "   'pred_score': 0.9999858140945435,\n",
       "   'pred_class': 'negative'}),\n",
       " (PosixPath('../data/larp/sjtu_larp_cloudy/playground/neutral/IMG_20230317_153120.jpg'),\n",
       "  {'pred_scores': array([0.01486852, 0.98513144], dtype=float32),\n",
       "   'pred_label': 1,\n",
       "   'pred_score': 0.9851314425468445,\n",
       "   'pred_class': 'positive'}),\n",
       " (PosixPath('../data/larp/sjtu_larp_cloudy/playground/neutral/IMG_20230317_153056.jpg'),\n",
       "  {'pred_scores': array([9.9997139e-01, 2.8649272e-05], dtype=float32),\n",
       "   'pred_label': 0,\n",
       "   'pred_score': 0.9999713897705078,\n",
       "   'pred_class': 'negative'}),\n",
       " (PosixPath('../data/larp/sjtu_larp_cloudy/playground/neutral/IMG_20230317_153140.jpg'),\n",
       "  {'pred_scores': array([0.09517162, 0.9048284 ], dtype=float32),\n",
       "   'pred_label': 1,\n",
       "   'pred_score': 0.9048284292221069,\n",
       "   'pred_class': 'positive'}),\n",
       " (PosixPath('../data/larp/sjtu_larp_cloudy/playground/neutral/IMG_20230317_154259.jpg'),\n",
       "  {'pred_scores': array([0.99120575, 0.00879422], dtype=float32),\n",
       "   'pred_label': 0,\n",
       "   'pred_score': 0.9912057518959045,\n",
       "   'pred_class': 'negative'}),\n",
       " (PosixPath('../data/larp/sjtu_larp_cloudy/playground/neutral/IMG_20230317_152947.jpg'),\n",
       "  {'pred_scores': array([0.8007109 , 0.19928904], dtype=float32),\n",
       "   'pred_label': 0,\n",
       "   'pred_score': 0.800710916519165,\n",
       "   'pred_class': 'negative'}),\n",
       " (PosixPath('../data/larp/sjtu_larp_cloudy/playground/neutral/IMG_20230317_153030.jpg'),\n",
       "  {'pred_scores': array([0.67964906, 0.32035097], dtype=float32),\n",
       "   'pred_label': 0,\n",
       "   'pred_score': 0.6796490550041199,\n",
       "   'pred_class': 'negative'}),\n",
       " (PosixPath('../data/larp/sjtu_larp_cloudy/playground/neutral/IMG_20230317_152925.jpg'),\n",
       "  {'pred_scores': array([0.9607251 , 0.03927492], dtype=float32),\n",
       "   'pred_label': 0,\n",
       "   'pred_score': 0.9607251286506653,\n",
       "   'pred_class': 'negative'}),\n",
       " (PosixPath('../data/larp/sjtu_larp_cloudy/playground/neutral/IMG_20230317_153042.jpg'),\n",
       "  {'pred_scores': array([0.8279883 , 0.17201169], dtype=float32),\n",
       "   'pred_label': 0,\n",
       "   'pred_score': 0.82798832654953,\n",
       "   'pred_class': 'negative'}),\n",
       " (PosixPath('../data/larp/sjtu_larp_cloudy/playground/neutral/IMG_20230317_153044.jpg'),\n",
       "  {'pred_scores': array([0.93752414, 0.06247589], dtype=float32),\n",
       "   'pred_label': 0,\n",
       "   'pred_score': 0.937524139881134,\n",
       "   'pred_class': 'negative'}),\n",
       " (PosixPath('../data/larp/sjtu_larp_cloudy/playground/neutral/IMG_20230317_153024.jpg'),\n",
       "  {'pred_scores': array([0.9776634 , 0.02233657], dtype=float32),\n",
       "   'pred_label': 0,\n",
       "   'pred_score': 0.9776633977890015,\n",
       "   'pred_class': 'negative'}),\n",
       " (PosixPath('../data/larp/sjtu_larp_cloudy/playground/neutral/IMG_20230317_154248.jpg'),\n",
       "  {'pred_scores': array([0.9811841 , 0.01881593], dtype=float32),\n",
       "   'pred_label': 0,\n",
       "   'pred_score': 0.9811841249465942,\n",
       "   'pred_class': 'negative'}),\n",
       " (PosixPath('../data/larp/sjtu_larp_cloudy/playground/neutral/IMG_20230317_152945.jpg'),\n",
       "  {'pred_scores': array([0.03568497, 0.964315  ], dtype=float32),\n",
       "   'pred_label': 1,\n",
       "   'pred_score': 0.9643149971961975,\n",
       "   'pred_class': 'positive'}),\n",
       " (PosixPath('../data/larp/sjtu_larp_cloudy/playground/neutral/IMG_20230317_154252.jpg'),\n",
       "  {'pred_scores': array([0.9970811 , 0.00291893], dtype=float32),\n",
       "   'pred_label': 0,\n",
       "   'pred_score': 0.9970811009407043,\n",
       "   'pred_class': 'negative'}),\n",
       " (PosixPath('../data/larp/sjtu_larp_cloudy/playground/neutral/IMG_20230317_153035.jpg'),\n",
       "  {'pred_scores': array([0.3037393 , 0.69626063], dtype=float32),\n",
       "   'pred_label': 1,\n",
       "   'pred_score': 0.6962606310844421,\n",
       "   'pred_class': 'positive'}),\n",
       " (PosixPath('../data/larp/sjtu_larp_cloudy/playground/neutral/IMG_20230317_153132.jpg'),\n",
       "  {'pred_scores': array([0.02357729, 0.9764227 ], dtype=float32),\n",
       "   'pred_label': 1,\n",
       "   'pred_score': 0.9764227271080017,\n",
       "   'pred_class': 'positive'}),\n",
       " (PosixPath('../data/larp/sjtu_larp_cloudy/playground/neutral/IMG_20230317_152930.jpg'),\n",
       "  {'pred_scores': array([9.9998307e-01, 1.6904994e-05], dtype=float32),\n",
       "   'pred_label': 0,\n",
       "   'pred_score': 0.9999830722808838,\n",
       "   'pred_class': 'negative'}),\n",
       " (PosixPath('../data/larp/sjtu_larp_cloudy/playground/neutral/IMG_20230317_153130.jpg'),\n",
       "  {'pred_scores': array([0.940396  , 0.05960398], dtype=float32),\n",
       "   'pred_label': 0,\n",
       "   'pred_score': 0.9403960108757019,\n",
       "   'pred_class': 'negative'}),\n",
       " (PosixPath('../data/larp/sjtu_larp_cloudy/playground/neutral/IMG_20230317_153124.jpg'),\n",
       "  {'pred_scores': array([0.08859146, 0.91140854], dtype=float32),\n",
       "   'pred_label': 1,\n",
       "   'pred_score': 0.911408543586731,\n",
       "   'pred_class': 'positive'}),\n",
       " (PosixPath('../data/larp/sjtu_larp_cloudy/playground/neutral/IMG_20230317_152959.jpg'),\n",
       "  {'pred_scores': array([0.10710648, 0.89289355], dtype=float32),\n",
       "   'pred_label': 1,\n",
       "   'pred_score': 0.8928935527801514,\n",
       "   'pred_class': 'positive'}),\n",
       " (PosixPath('../data/larp/sjtu_larp_cloudy/playground/neutral/IMG_20230317_154314.jpg'),\n",
       "  {'pred_scores': array([0.04504371, 0.9549563 ], dtype=float32),\n",
       "   'pred_label': 1,\n",
       "   'pred_score': 0.9549562931060791,\n",
       "   'pred_class': 'positive'}),\n",
       " (PosixPath('../data/larp/sjtu_larp_cloudy/playground/neutral/IMG_20230317_153008.jpg'),\n",
       "  {'pred_scores': array([0.9593499, 0.0406501], dtype=float32),\n",
       "   'pred_label': 0,\n",
       "   'pred_score': 0.9593498706817627,\n",
       "   'pred_class': 'negative'}),\n",
       " (PosixPath('../data/larp/sjtu_larp_cloudy/playground/neutral/IMG_20230317_154250.jpg'),\n",
       "  {'pred_scores': array([0.9313915, 0.0686085], dtype=float32),\n",
       "   'pred_label': 0,\n",
       "   'pred_score': 0.9313914775848389,\n",
       "   'pred_class': 'negative'}),\n",
       " (PosixPath('../data/larp/sjtu_larp_cloudy/playground/neutral/IMG_20230317_153028.jpg'),\n",
       "  {'pred_scores': array([0.01980476, 0.9801952 ], dtype=float32),\n",
       "   'pred_label': 1,\n",
       "   'pred_score': 0.9801952242851257,\n",
       "   'pred_class': 'positive'}),\n",
       " (PosixPath('../data/larp/sjtu_larp_cloudy/playground/neutral/IMG_20230317_153055.jpg'),\n",
       "  {'pred_scores': array([9.9969971e-01, 3.0032417e-04], dtype=float32),\n",
       "   'pred_label': 0,\n",
       "   'pred_score': 0.9996997117996216,\n",
       "   'pred_class': 'negative'}),\n",
       " (PosixPath('../data/larp/sjtu_larp_cloudy/playground/neutral/IMG_20230317_152942.jpg'),\n",
       "  {'pred_scores': array([9.9929261e-01, 7.0732064e-04], dtype=float32),\n",
       "   'pred_label': 0,\n",
       "   'pred_score': 0.9992926120758057,\n",
       "   'pred_class': 'negative'}),\n",
       " (PosixPath('../data/larp/sjtu_larp_cloudy/playground/neutral/IMG_20230317_153100.jpg'),\n",
       "  {'pred_scores': array([0.9985146 , 0.00148545], dtype=float32),\n",
       "   'pred_label': 0,\n",
       "   'pred_score': 0.9985145926475525,\n",
       "   'pred_class': 'negative'}),\n",
       " (PosixPath('../data/larp/sjtu_larp_cloudy/playground/neutral/IMG_20230317_154255.jpg'),\n",
       "  {'pred_scores': array([0.75117546, 0.24882454], dtype=float32),\n",
       "   'pred_label': 0,\n",
       "   'pred_score': 0.7511754631996155,\n",
       "   'pred_class': 'negative'}),\n",
       " (PosixPath('../data/larp/sjtu_larp_cloudy/playground/neutral/IMG_20230317_152923.jpg'),\n",
       "  {'pred_scores': array([0.51391876, 0.48608124], dtype=float32),\n",
       "   'pred_label': 0,\n",
       "   'pred_score': 0.5139187574386597,\n",
       "   'pred_class': 'negative'}),\n",
       " (PosixPath('../data/larp/sjtu_larp_cloudy/playground/neutral/IMG_20230317_153034.jpg'),\n",
       "  {'pred_scores': array([0.9506096, 0.0493904], dtype=float32),\n",
       "   'pred_label': 0,\n",
       "   'pred_score': 0.9506096243858337,\n",
       "   'pred_class': 'negative'}),\n",
       " (PosixPath('../data/larp/sjtu_larp_cloudy/playground/neutral/IMG_20230317_152954.jpg'),\n",
       "  {'pred_scores': array([0.20511088, 0.79488915], dtype=float32),\n",
       "   'pred_label': 1,\n",
       "   'pred_score': 0.7948891520500183,\n",
       "   'pred_class': 'positive'}),\n",
       " (PosixPath('../data/larp/sjtu_larp_cloudy/playground/neutral/IMG_20230317_153114.jpg'),\n",
       "  {'pred_scores': array([0.15458687, 0.8454131 ], dtype=float32),\n",
       "   'pred_label': 1,\n",
       "   'pred_score': 0.845413088798523,\n",
       "   'pred_class': 'positive'}),\n",
       " (PosixPath('../data/larp/sjtu_larp_cloudy/playground/neutral/IMG_20230317_154306.jpg'),\n",
       "  {'pred_scores': array([0.09063646, 0.90936357], dtype=float32),\n",
       "   'pred_label': 1,\n",
       "   'pred_score': 0.9093635678291321,\n",
       "   'pred_class': 'positive'}),\n",
       " (PosixPath('../data/larp/sjtu_larp_cloudy/playground/neutral/IMG_20230317_153039.jpg'),\n",
       "  {'pred_scores': array([0.15711623, 0.8428837 ], dtype=float32),\n",
       "   'pred_label': 1,\n",
       "   'pred_score': 0.8428837060928345,\n",
       "   'pred_class': 'positive'}),\n",
       " (PosixPath('../data/larp/sjtu_larp_cloudy/playground/neutral/IMG_20230317_153047.jpg'),\n",
       "  {'pred_scores': array([9.999043e-01, 9.575262e-05], dtype=float32),\n",
       "   'pred_label': 0,\n",
       "   'pred_score': 0.9999042749404907,\n",
       "   'pred_class': 'negative'}),\n",
       " (PosixPath('../data/larp/sjtu_larp_cloudy/playground/neutral/IMG_20230317_152919.jpg'),\n",
       "  {'pred_scores': array([9.9908495e-01, 9.1501896e-04], dtype=float32),\n",
       "   'pred_label': 0,\n",
       "   'pred_score': 0.9990849494934082,\n",
       "   'pred_class': 'negative'}),\n",
       " (PosixPath('../data/larp/sjtu_larp_cloudy/playground/neutral/IMG_20230317_153052.jpg'),\n",
       "  {'pred_scores': array([9.999157e-01, 8.424069e-05], dtype=float32),\n",
       "   'pred_label': 0,\n",
       "   'pred_score': 0.9999157190322876,\n",
       "   'pred_class': 'negative'}),\n",
       " (PosixPath('../data/larp/sjtu_larp_cloudy/playground/neutral/IMG_20230317_153217.jpg'),\n",
       "  {'pred_scores': array([0.00153023, 0.99846977], dtype=float32),\n",
       "   'pred_label': 1,\n",
       "   'pred_score': 0.9984697699546814,\n",
       "   'pred_class': 'positive'}),\n",
       " (PosixPath('../data/larp/sjtu_larp_cloudy/playground/neutral/IMG_20230317_153037.jpg'),\n",
       "  {'pred_scores': array([0.4050065 , 0.59499353], dtype=float32),\n",
       "   'pred_label': 1,\n",
       "   'pred_score': 0.594993531703949,\n",
       "   'pred_class': 'positive'}),\n",
       " (PosixPath('../data/larp/sjtu_larp_cloudy/playground/neutral/IMG_20230317_152935.jpg'),\n",
       "  {'pred_scores': array([0.05322956, 0.9467705 ], dtype=float32),\n",
       "   'pred_label': 1,\n",
       "   'pred_score': 0.9467704892158508,\n",
       "   'pred_class': 'positive'}),\n",
       " (PosixPath('../data/larp/sjtu_larp_cloudy/playground/neutral/IMG_20230317_154316.jpg'),\n",
       "  {'pred_scores': array([0.04014667, 0.9598533 ], dtype=float32),\n",
       "   'pred_label': 1,\n",
       "   'pred_score': 0.9598532915115356,\n",
       "   'pred_class': 'positive'}),\n",
       " (PosixPath('../data/larp/sjtu_larp_cloudy/playground/neutral/IMG_20230317_152951.jpg'),\n",
       "  {'pred_scores': array([0.11218804, 0.8878119 ], dtype=float32),\n",
       "   'pred_label': 1,\n",
       "   'pred_score': 0.8878118991851807,\n",
       "   'pred_class': 'positive'}),\n",
       " (PosixPath('../data/larp/sjtu_larp_cloudy/playground/neutral/IMG_20230317_152939.jpg'),\n",
       "  {'pred_scores': array([0.01481066, 0.9851893 ], dtype=float32),\n",
       "   'pred_label': 1,\n",
       "   'pred_score': 0.9851893186569214,\n",
       "   'pred_class': 'positive'}),\n",
       " (PosixPath('../data/larp/sjtu_larp_cloudy/playground/neutral/IMG_20230317_153122.jpg'),\n",
       "  {'pred_scores': array([0.20812275, 0.79187727], dtype=float32),\n",
       "   'pred_label': 1,\n",
       "   'pred_score': 0.791877269744873,\n",
       "   'pred_class': 'positive'}),\n",
       " (PosixPath('../data/larp/sjtu_larp_cloudy/playground/neutral/IMG_20230317_153110.jpg'),\n",
       "  {'pred_scores': array([0.28701085, 0.71298915], dtype=float32),\n",
       "   'pred_label': 1,\n",
       "   'pred_score': 0.7129891514778137,\n",
       "   'pred_class': 'positive'}),\n",
       " (PosixPath('../data/larp/sjtu_larp_cloudy/playground/neutral/IMG_20230317_153117.jpg'),\n",
       "  {'pred_scores': array([0.9928845 , 0.00711546], dtype=float32),\n",
       "   'pred_label': 0,\n",
       "   'pred_score': 0.9928845167160034,\n",
       "   'pred_class': 'negative'}),\n",
       " (PosixPath('../data/larp/sjtu_larp_cloudy/playground/neutral/IMG_20230317_153016.jpg'),\n",
       "  {'pred_scores': array([0.19355999, 0.80644   ], dtype=float32),\n",
       "   'pred_label': 1,\n",
       "   'pred_score': 0.806439995765686,\n",
       "   'pred_class': 'positive'}),\n",
       " (PosixPath('../data/larp/sjtu_larp_cloudy/playground/neutral/IMG_20230317_153040.jpg'),\n",
       "  {'pred_scores': array([9.992193e-01, 7.807033e-04], dtype=float32),\n",
       "   'pred_label': 0,\n",
       "   'pred_score': 0.9992192983627319,\n",
       "   'pred_class': 'negative'}),\n",
       " (PosixPath('../data/larp/sjtu_larp_cloudy/playground/neutral/IMG_20230317_153208.jpg'),\n",
       "  {'pred_scores': array([1.2412448e-04, 9.9987590e-01], dtype=float32),\n",
       "   'pred_label': 1,\n",
       "   'pred_score': 0.9998759031295776,\n",
       "   'pred_class': 'positive'}),\n",
       " (PosixPath('../data/larp/sjtu_larp_cloudy/playground/neutral/IMG_20230317_153144.jpg'),\n",
       "  {'pred_scores': array([0.00477531, 0.9952247 ], dtype=float32),\n",
       "   'pred_label': 1,\n",
       "   'pred_score': 0.9952247142791748,\n",
       "   'pred_class': 'positive'}),\n",
       " (PosixPath('../data/larp/sjtu_larp_cloudy/playground/neutral/IMG_20230317_153014.jpg'),\n",
       "  {'pred_scores': array([0.9773752 , 0.02262478], dtype=float32),\n",
       "   'pred_label': 0,\n",
       "   'pred_score': 0.9773752093315125,\n",
       "   'pred_class': 'negative'}),\n",
       " (PosixPath('../data/larp/sjtu_larp_cloudy/playground/neutral/IMG_20230317_153032.jpg'),\n",
       "  {'pred_scores': array([0.00558555, 0.99441445], dtype=float32),\n",
       "   'pred_label': 1,\n",
       "   'pred_score': 0.9944144487380981,\n",
       "   'pred_class': 'positive'}),\n",
       " (PosixPath('../data/larp/sjtu_larp_cloudy/playground/neutral/IMG_20230317_154254.jpg'),\n",
       "  {'pred_scores': array([0.9505393 , 0.04946077], dtype=float32),\n",
       "   'pred_label': 0,\n",
       "   'pred_score': 0.9505392909049988,\n",
       "   'pred_class': 'negative'}),\n",
       " (PosixPath('../data/larp/sjtu_larp_cloudy/playground/neutral/IMG_20230317_153148.jpg'),\n",
       "  {'pred_scores': array([0.57735956, 0.4226404 ], dtype=float32),\n",
       "   'pred_label': 0,\n",
       "   'pred_score': 0.5773595571517944,\n",
       "   'pred_class': 'negative'}),\n",
       " (PosixPath('../data/larp/sjtu_larp_cloudy/playground/neutral/IMG_20230317_153005.jpg'),\n",
       "  {'pred_scores': array([0.76179135, 0.23820867], dtype=float32),\n",
       "   'pred_label': 0,\n",
       "   'pred_score': 0.7617913484573364,\n",
       "   'pred_class': 'negative'}),\n",
       " (PosixPath('../data/larp/sjtu_larp_cloudy/playground/neutral/IMG_20230317_153107.jpg'),\n",
       "  {'pred_scores': array([0.99842834, 0.00157173], dtype=float32),\n",
       "   'pred_label': 0,\n",
       "   'pred_score': 0.9984283447265625,\n",
       "   'pred_class': 'negative'}),\n",
       " (PosixPath('../data/larp/sjtu_larp_cloudy/playground/neutral/IMG_20230317_153003.jpg'),\n",
       "  {'pred_scores': array([0.5180943 , 0.48190567], dtype=float32),\n",
       "   'pred_label': 0,\n",
       "   'pred_score': 0.5180943012237549,\n",
       "   'pred_class': 'negative'}),\n",
       " (PosixPath('../data/larp/sjtu_larp_cloudy/playground/neutral/IMG_20230317_153201.jpg'),\n",
       "  {'pred_scores': array([0.01284762, 0.9871524 ], dtype=float32),\n",
       "   'pred_label': 1,\n",
       "   'pred_score': 0.9871523976325989,\n",
       "   'pred_class': 'positive'}),\n",
       " (PosixPath('../data/larp/sjtu_larp_cloudy/playground/neutral/IMG_20230317_154317.jpg'),\n",
       "  {'pred_scores': array([0.02250117, 0.9774989 ], dtype=float32),\n",
       "   'pred_label': 1,\n",
       "   'pred_score': 0.9774988889694214,\n",
       "   'pred_class': 'positive'})]"
      ]
     },
     "execution_count": 14,
     "metadata": {},
     "output_type": "execute_result"
    }
   ],
   "source": [
    "list(zip(img_list, res))"
   ]
  },
  {
   "cell_type": "code",
   "execution_count": null,
   "id": "ad7290c6-5fc0-4576-b03b-0747e9725f87",
   "metadata": {},
   "outputs": [],
   "source": []
  }
 ],
 "metadata": {
  "kernelspec": {
   "display_name": "Python 3 (ipykernel)",
   "language": "python",
   "name": "python3"
  },
  "language_info": {
   "codemirror_mode": {
    "name": "ipython",
    "version": 3
   },
   "file_extension": ".py",
   "mimetype": "text/x-python",
   "name": "python",
   "nbconvert_exporter": "python",
   "pygments_lexer": "ipython3",
   "version": "3.8.10"
  }
 },
 "nbformat": 4,
 "nbformat_minor": 5
}
