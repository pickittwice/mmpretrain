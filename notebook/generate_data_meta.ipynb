{
 "cells": [
  {
   "cell_type": "code",
   "execution_count": 1,
   "id": "2ec23ee3-941e-4f31-a1b2-65505151774b",
   "metadata": {},
   "outputs": [
    {
     "name": "stderr",
     "output_type": "stream",
     "text": [
      "/home/pickittwice/anaconda3/envs/open-mmlab/lib/python3.8/site-packages/tqdm/auto.py:21: TqdmWarning: IProgress not found. Please update jupyter and ipywidgets. See https://ipywidgets.readthedocs.io/en/stable/user_install.html\n",
      "  from .autonotebook import tqdm as notebook_tqdm\n"
     ]
    }
   ],
   "source": [
    "import json\n",
    "import mmcv\n",
    "from pathlib import Path\n",
    "import os\n",
    "import numpy as np"
   ]
  },
  {
   "cell_type": "code",
   "execution_count": 2,
   "id": "8d37696d-4b50-4f38-ac1a-617b3cf3653d",
   "metadata": {},
   "outputs": [],
   "source": [
    "from itertools import chain"
   ]
  },
  {
   "cell_type": "code",
   "execution_count": 3,
   "id": "d113d4f5-e77b-4737-9d8e-37a750e260e7",
   "metadata": {},
   "outputs": [],
   "source": [
    "def scandir(root, recursive=False, suffix=['.jpg','.png','.jpeg']):\n",
    "    root = Path(root)\n",
    "    img_list = []\n",
    "    pattern = '*'\n",
    "    if recursive:\n",
    "        pattern = '**/*'\n",
    "    for sfx in suffix:\n",
    "        img_list += list(root.glob(pattern+sfx))\n",
    "    return img_list"
   ]
  },
  {
   "cell_type": "code",
   "execution_count": 4,
   "id": "ef6e116c-fa89-408d-b55a-5c4969b9327e",
   "metadata": {},
   "outputs": [],
   "source": [
    "def generate_ann_file(positive_dirs, negative_dirs, root='/', split_eval_ratio=0., class_balance=False):\n",
    "    ann = {'metainfo':{\n",
    "            'classes': ('negative', 'positive'), # the category index of 'cat' is 0 and 'dog' is 1.\n",
    "        }}\n",
    "    pos_list, neg_list = [],[]\n",
    "    for d in positive_dirs:\n",
    "        img_list = scandir(d, recursive=True)\n",
    "        pos_list += [{'img_path': str(Path(p).relative_to(root)), 'gt_label': 1} for p in img_list]\n",
    "    np.random.shuffle(pos_list)\n",
    "    np.random.shuffle(pos_list)\n",
    "    for d in negative_dirs:\n",
    "        img_list = scandir(d, recursive=True)\n",
    "        neg_list += [{'img_path': str(Path(p).relative_to(root)), 'gt_label': 0} for p in img_list]\n",
    "    np.random.shuffle(neg_list)\n",
    "    np.random.shuffle(neg_list)\n",
    "        \n",
    "    assert len(pos_list)>2 and len(neg_list)>2\n",
    "    # print(len(pos_list), len(neg_list))\n",
    "    \n",
    "    if split_eval_ratio > 0:\n",
    "        pos_eval_num = max(1, int(len(pos_list)*split_eval_ratio))\n",
    "        neg_eval_num = max(1, int(len(neg_list)*split_eval_ratio))\n",
    "        pos_eval_list = pos_list[-pos_eval_num:]\n",
    "        pos_list = pos_list[:-pos_eval_num]\n",
    "        neg_eval_list = neg_list[-neg_eval_num:]\n",
    "        neg_list = neg_list[:-neg_eval_num]\n",
    "        \n",
    "    # repeat img data, as video data is more and similar\n",
    "    pos_img_list = [p for p in pos_list if not 'video' in p['img_path']]\n",
    "    pos_video_list = [p for p in pos_list if 'video' in p['img_path']]\n",
    "    if len(pos_img_list)>0:\n",
    "        pos_list = pos_img_list*max(1, int(len(pos_video_list)/len(pos_img_list)+0.5)) + pos_video_list\n",
    "    \n",
    "    neg_img_list = [p for p in neg_list if not 'video' in p['img_path']]\n",
    "    neg_video_list = [p for p in neg_list if 'video' in p['img_path']]\n",
    "    if len(neg_img_list)>0:\n",
    "        neg_list = neg_img_list*max(1, int(len(neg_video_list)/len(neg_img_list)+0.5)) + neg_video_list\n",
    "    # print(len(pos_list), len(pos_video_list))\n",
    "    # print(len(neg_list), len(neg_video_list))\n",
    "        \n",
    "    if class_balance:\n",
    "        if len(pos_list) > len(neg_list):\n",
    "            ratio = max(1, int(np.ceil(len(pos_list)/len(neg_list))))\n",
    "            neg_list *= ratio\n",
    "        else:\n",
    "            ratio = max(1, int(np.ceil(len(neg_list)/len(pos_list))))\n",
    "            pos_list *= ratio\n",
    "    # print(len(pos_list), len(neg_list))\n",
    "    \n",
    "    ann['data_list'] = pos_list + neg_list\n",
    "    np.random.shuffle(ann['data_list'])\n",
    "    if split_eval_ratio > 0:\n",
    "        eval_ann = {'metainfo':{'classes': ('negative', 'positive')}}\n",
    "        eval_ann['data_list'] = pos_eval_list + neg_eval_list\n",
    "        np.random.shuffle(eval_ann['data_list'])\n",
    "        return ann, eval_ann\n",
    "    else:\n",
    "        return ann"
   ]
  },
  {
   "cell_type": "code",
   "execution_count": 209,
   "id": "ebe08528-7f9a-4496-9f84-9e4e12bc0f98",
   "metadata": {},
   "outputs": [],
   "source": [
    "# playground\n",
    "data_root = '/root/autodl-tmp/Data/larp/'\n",
    "pos_dirs = ['/root/autodl-tmp/Data/larp/sjtu_larp_cloudy/playground/positive_video/',\n",
    "            '/root/autodl-tmp/Data/larp/sjtu_larp_cloudy/playground/positive/',\n",
    "            # '/root/autodl-tmp/Data/larp/sjtu_larp_cloudy/playground/neutral/',\n",
    "            '/root/autodl-tmp/Data/larp/larp_sjtu_sunny/playground/positive_video/',\n",
    "]\n",
    "\n",
    "_neg_roots = [\n",
    "    '/root/autodl-tmp/Data/larp/sjtu_larp_cloudy/doorplate/',\n",
    "    '/root/autodl-tmp/Data/larp/sjtu_larp_cloudy/reverse2/',\n",
    "    '/root/autodl-tmp/Data/larp/larp_sjtu_sunny/reverse2/'\n",
    "]\n",
    "neg_dirs = list(chain(*[list(Path(d).glob('**/')) for d in _neg_roots]))\n",
    "neg_dirs += ['/root/autodl-tmp/Data/larp/sjtu_larp_cloudy/playground/negative/',]\n",
    "\n",
    "ann, eval_ann = generate_ann_file(pos_dirs, neg_dirs, root=data_root, split_eval_ratio=0.1, class_balance=True)\n",
    "with open(os.path.join(data_root, 'playground_ann_train.json'), 'w', encoding='utf-8') as f:\n",
    "    json.dump(ann, f, ensure_ascii=False, indent=4)\n",
    "with open(os.path.join(data_root, 'playground_ann_val.json'), 'w', encoding='utf-8') as f:\n",
    "    json.dump(eval_ann, f, ensure_ascii=False, indent=4)"
   ]
  },
  {
   "cell_type": "code",
   "execution_count": 210,
   "id": "3b4d0480-b68d-437e-8242-2d511aacafd6",
   "metadata": {},
   "outputs": [],
   "source": [
    "# reverse2\n",
    "data_root = '/root/autodl-tmp/Data/larp/'\n",
    "pos_dirs = ['/root/autodl-tmp/Data/larp/sjtu_larp_cloudy/reverse2/positive_video/',\n",
    "            # '/root/autodl-tmp/Data/larp/sjtu_larp_cloudy/reverse2/positive_hard_video/',\n",
    "            '/root/autodl-tmp/Data/larp/larp_sjtu_sunny/reverse2/positive_video/',\n",
    "            # '/root/autodl-tmp/Data/larp/larp_sjtu_sunny/reverse2/positive_hard_video/',\n",
    "]\n",
    "\n",
    "_neg_roots = [\n",
    "    '/root/autodl-tmp/Data/larp/sjtu_larp_cloudy/doorplate/',\n",
    "    '/root/autodl-tmp/Data/larp/sjtu_larp_cloudy/playground/',\n",
    "    '/root/autodl-tmp/Data/larp/larp_sjtu_sunny/playground/'\n",
    "]\n",
    "neg_dirs = list(chain(*[list(Path(d).glob('**/')) for d in _neg_roots]))\n",
    "neg_dirs += [\n",
    "    '/root/autodl-tmp/Data/larp/sjtu_larp_cloudy/reverse2/negative_video/',\n",
    "    '/root/autodl-tmp/Data/larp/sjtu_larp_cloudy/reverse2/negative/',\n",
    "]\n",
    "\n",
    "ann, eval_ann = generate_ann_file(pos_dirs, neg_dirs, root=data_root, split_eval_ratio=0.1, class_balance=True)\n",
    "with open(os.path.join(data_root, 'reverse2_ann_train.json'), 'w', encoding='utf-8') as f:\n",
    "    json.dump(ann, f, ensure_ascii=False, indent=4)\n",
    "with open(os.path.join(data_root, 'reverse2_ann_val.json'), 'w', encoding='utf-8') as f:\n",
    "    json.dump(eval_ann, f, ensure_ascii=False, indent=4)"
   ]
  },
  {
   "cell_type": "code",
   "execution_count": 211,
   "id": "fe665098-2cea-496c-93c6-d217f98cc65e",
   "metadata": {},
   "outputs": [],
   "source": [
    "# doorplate\n",
    "data_root = '/root/autodl-tmp/Data/larp/'\n",
    "pos_dirs = ['/root/autodl-tmp/Data/larp/sjtu_larp_cloudy/doorplate/positive_doorplate/',\n",
    "            '/root/autodl-tmp/Data/larp/sjtu_larp_cloudy/doorplate/positive_video/',\n",
    "]\n",
    "\n",
    "_neg_roots = [\n",
    "    '/root/autodl-tmp/Data/larp/sjtu_larp_cloudy/reverse2/',\n",
    "    '/root/autodl-tmp/Data/larp/sjtu_larp_cloudy/playground/',\n",
    "    '/root/autodl-tmp/Data/larp/larp_sjtu_sunny/playground/',\n",
    "    '/root/autodl-tmp/Data/larp/larp_sjtu_sunny/reverse2/',\n",
    "]\n",
    "neg_dirs = list(chain(*[list(Path(d).glob('**/')) for d in _neg_roots]))\n",
    "neg_dirs += [\n",
    "    '/root/autodl-tmp/Data/larp/sjtu_larp_cloudy/doorplate/negative/',\n",
    "    '/root/autodl-tmp/Data/larp/sjtu_larp_cloudy/doorplate/other_doorplate/',\n",
    "]\n",
    "\n",
    "ann, eval_ann = generate_ann_file(pos_dirs, neg_dirs, root=data_root, split_eval_ratio=0.1, class_balance=True)\n",
    "with open(os.path.join(data_root, 'doorplate_ann_train.json'), 'w', encoding='utf-8') as f:\n",
    "    json.dump(ann, f, ensure_ascii=False, indent=4)\n",
    "with open(os.path.join(data_root, 'doorplate_ann_val.json'), 'w', encoding='utf-8') as f:\n",
    "    json.dump(eval_ann, f, ensure_ascii=False, indent=4)"
   ]
  },
  {
   "cell_type": "code",
   "execution_count": 7,
   "id": "5b61bcf7-0aee-494d-bb18-dd24839ff11a",
   "metadata": {},
   "outputs": [],
   "source": [
    "# doorplate 504\n",
    "data_root = '/root/autodl-tmp/Data/larp/'\n",
    "pos_dirs = [\n",
    "    # '/root/autodl-tmp/Data/larp/sjtu_larp_cloudy/doorplate/positive_doorplate/',\n",
    "    '/root/autodl-tmp/Data/larp/sjtu_larp_cloudy/doorplate/positive_video/',\n",
    "]\n",
    "\n",
    "_neg_roots = [\n",
    "    '/root/autodl-tmp/Data/larp/sjtu_larp_cloudy/reverse2/',\n",
    "    '/root/autodl-tmp/Data/larp/sjtu_larp_cloudy/playground/',\n",
    "    '/root/autodl-tmp/Data/larp/larp_sjtu_sunny/playground/',\n",
    "    '/root/autodl-tmp/Data/larp/larp_sjtu_sunny/reverse2/',\n",
    "]\n",
    "neg_dirs = list(chain(*[list(Path(d).glob('**/')) for d in _neg_roots]))\n",
    "neg_dirs += [\n",
    "    '/root/autodl-tmp/Data/larp/sjtu_larp_cloudy/doorplate/negative/',\n",
    "    '/root/autodl-tmp/Data/larp/sjtu_larp_cloudy/doorplate/other_doorplate/',\n",
    "    '/root/autodl-tmp/Data/larp/sjtu_larp_cloudy/doorplate/positive_doorplate/',\n",
    "]\n",
    "\n",
    "ann, eval_ann = generate_ann_file(pos_dirs, neg_dirs, root=data_root, split_eval_ratio=0.1, class_balance=True)\n",
    "with open(os.path.join(data_root, 'doorplate504_ann_train.json'), 'w', encoding='utf-8') as f:\n",
    "    json.dump(ann, f, ensure_ascii=False, indent=4)\n",
    "with open(os.path.join(data_root, 'doorplate504_ann_val.json'), 'w', encoding='utf-8') as f:\n",
    "    json.dump(eval_ann, f, ensure_ascii=False, indent=4)"
   ]
  },
  {
   "cell_type": "code",
   "execution_count": 5,
   "id": "62b4545b-3c64-4b58-ba25-4a7f0969d403",
   "metadata": {},
   "outputs": [],
   "source": [
    "# doorplate aspect ratio aug\n",
    "data_root = '/home/pickittwice/data/larp/larp/'\n",
    "pos_dirs = [\n",
    "    '/home/pickittwice/data/larp/larp/sjtu_larp_cloudy/doorplate/positive_doorplate/',\n",
    "    '/home/pickittwice/data/larp/larp/sjtu_larp_cloudy/doorplate/positive_video/',\n",
    "    '/home/pickittwice/data/larp/larp/sjtu_larp_cloudy/doorplate/positive_doorplate_cropaug/',\n",
    "    '/home/pickittwice/data/larp/larp/sjtu_larp_cloudy/doorplate/positive_video_cropaug/',\n",
    "    '/home/pickittwice/data/larp/larp/larp_sjtu_sunny/doorplate504_add/',\n",
    "]\n",
    "\n",
    "_neg_roots = [\n",
    "    '/home/pickittwice/data/larp/larp/sjtu_larp_cloudy/reverse2/',\n",
    "    '/home/pickittwice/data/larp/larp/sjtu_larp_cloudy/playground/',\n",
    "    '/home/pickittwice/data/larp/larp/larp_sjtu_sunny/playground/',\n",
    "    '/home/pickittwice/data/larp/larp/larp_sjtu_sunny/reverse2/',\n",
    "]\n",
    "neg_dirs = list(chain(*[list(Path(d).glob('**/')) for d in _neg_roots]))\n",
    "neg_dirs += [\n",
    "    '/home/pickittwice/data/larp/larp/sjtu_larp_cloudy/doorplate/negative/',\n",
    "    '/home/pickittwice/data/larp/larp/sjtu_larp_cloudy/doorplate/other_doorplate/',\n",
    "]\n",
    "\n",
    "ann, eval_ann = generate_ann_file(pos_dirs, neg_dirs, root=data_root, split_eval_ratio=0.1, class_balance=True)\n",
    "with open(os.path.join(data_root, 'doorplate_addaug_ann_train.json'), 'w', encoding='utf-8') as f:\n",
    "    json.dump(ann, f, ensure_ascii=False, indent=4)\n",
    "with open(os.path.join(data_root, 'doorplate_addaug_ann_val.json'), 'w', encoding='utf-8') as f:\n",
    "    json.dump(eval_ann, f, ensure_ascii=False, indent=4)"
   ]
  },
  {
   "cell_type": "code",
   "execution_count": null,
   "id": "61ca38ee-b1f7-4cee-8ff0-acf1526b35e8",
   "metadata": {},
   "outputs": [],
   "source": [
    "'/root/autodl-tmp/larp/',"
   ]
  },
  {
   "cell_type": "code",
   "execution_count": 205,
   "id": "97c31328-aacb-42d7-bd4f-a0b557a20c02",
   "metadata": {},
   "outputs": [
    {
     "data": {
      "text/plain": [
       "15587"
      ]
     },
     "execution_count": 205,
     "metadata": {},
     "output_type": "execute_result"
    }
   ],
   "source": [
    "len(ann['data_list'])"
   ]
  },
  {
   "cell_type": "code",
   "execution_count": 203,
   "id": "8a9e5ec9-1a59-4e5f-b647-d4f0ec4cf95e",
   "metadata": {},
   "outputs": [
    {
     "data": {
      "text/plain": [
       "314"
      ]
     },
     "execution_count": 203,
     "metadata": {},
     "output_type": "execute_result"
    }
   ],
   "source": [
    "len(eval_ann['data_list'])"
   ]
  },
  {
   "cell_type": "code",
   "execution_count": 63,
   "id": "6c6b6e90-06b1-45b7-930e-27f054d52418",
   "metadata": {},
   "outputs": [
    {
     "data": {
      "text/plain": [
       "['/root/autodl-tmp/Data/larp/sjtu_larp_cloudy/doorplate/positive_video',\n",
       " '/root/autodl-tmp/Data/larp/sjtu_larp_cloudy/reverse2/negative_video',\n",
       " '/root/autodl-tmp/Data/larp/sjtu_larp_cloudy/reverse2/positive_hard_video',\n",
       " '/root/autodl-tmp/Data/larp/sjtu_larp_cloudy/reverse2/positive_video']"
      ]
     },
     "execution_count": 63,
     "metadata": {},
     "output_type": "execute_result"
    }
   ],
   "source": [
    "neg_video_dirs"
   ]
  },
  {
   "cell_type": "code",
   "execution_count": 38,
   "id": "62b94551-f723-4746-b575-0b0f348b172a",
   "metadata": {},
   "outputs": [],
   "source": [
    "ann = generate_ann_file(pos_dirs, neg_dirs, root='/root/autodl-tmp/Data/larp/sjtu_larp_cloudy/')"
   ]
  },
  {
   "cell_type": "code",
   "execution_count": null,
   "id": "eef571ee-c0d8-46ed-b30f-7ab5d1854031",
   "metadata": {},
   "outputs": [],
   "source": [
    "ann"
   ]
  },
  {
   "cell_type": "code",
   "execution_count": 18,
   "id": "b8d9674f-6d08-428f-967d-df2a4f7928ce",
   "metadata": {},
   "outputs": [],
   "source": [
    "a = Path('/root/autodl-tmp/Data/larp/sjtu_larp_cloudy/')"
   ]
  },
  {
   "cell_type": "code",
   "execution_count": 22,
   "id": "acf863a9-ffc5-43b4-9e3a-4721c219e40d",
   "metadata": {},
   "outputs": [
    {
     "data": {
      "text/plain": [
       "[]"
      ]
     },
     "execution_count": 22,
     "metadata": {},
     "output_type": "execute_result"
    }
   ],
   "source": [
    "scandir(a, recursive=False)"
   ]
  },
  {
   "cell_type": "code",
   "execution_count": 7,
   "id": "5732b905-d80d-4e9b-8cd8-9e5fa5f05e44",
   "metadata": {},
   "outputs": [
    {
     "data": {
      "text/plain": [
       "'autodl-tmp/Data/larp/sjtu_larp_cloudy'"
      ]
     },
     "execution_count": 7,
     "metadata": {},
     "output_type": "execute_result"
    }
   ],
   "source": [
    "str(a.relative_to('/root'))"
   ]
  },
  {
   "cell_type": "code",
   "execution_count": null,
   "id": "cb3f9887-1069-4fa0-a728-e3685693b683",
   "metadata": {},
   "outputs": [],
   "source": []
  }
 ],
 "metadata": {
  "kernelspec": {
   "display_name": "Python [conda env:open-mmlab]",
   "language": "python",
   "name": "conda-env-open-mmlab-py"
  },
  "language_info": {
   "codemirror_mode": {
    "name": "ipython",
    "version": 3
   },
   "file_extension": ".py",
   "mimetype": "text/x-python",
   "name": "python",
   "nbconvert_exporter": "python",
   "pygments_lexer": "ipython3",
   "version": "3.8.16"
  }
 },
 "nbformat": 4,
 "nbformat_minor": 5
}
